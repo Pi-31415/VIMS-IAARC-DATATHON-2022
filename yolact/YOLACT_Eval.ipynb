{
  "cells": [
    {
      "cell_type": "markdown",
      "metadata": {
        "id": "YWzKi-xiGX-i"
      },
      "source": [
        "# YOLACT Google Colab Notebook\n",
        "Inference on images and video with [YOLACT](https://github.com/dbolya/yolact).\n",
        "\n",
        "## Google Colab\n",
        "This notebook is set up to work inside Google Colab, which is a free, Linux-based Jupyter Notebook environment hosted in the cloud.\n",
        "\n",
        "If you try it outside of Google Colab I'm not sure if it will work. I originally had problems running locally on my Windows machine, which is why I switched to this.\n",
        "\n",
        "### Runtime Setup\n",
        "- Go to Runtime > Change Runtime Type\n",
        "- Choose GPU (TPU won't work)\n",
        "\n",
        "## YOLACT\n",
        "YOLACT is a state of the art, real-time, single shot object segmentation algorithm detailed in these papers:  \n",
        "- [YOLACT: Real-time Instance Segmentation](https://arxiv.org/abs/1904.02689)\n",
        "- [YOLACT++: Better Real-time Instance Segmentation](https://arxiv.org/abs/1912.06218)\n",
        "\n",
        "**Big thanks to the authors: Daniel Bolya, Chong Zhou, Fanyi Xiao, Yong Jae Lee!**\n",
        "\n",
        "## Immersive Limit\n",
        "This notebook was created by Adam Kelly, instructor/creator of [immersivelimit.com](https://www.immersivelimit.com).\n",
        "- Subscribe for lots more awesome AI and 3D content on the [YouTube channel](https://www.youtube.com/c/immersivelimit)\n",
        "- Check out https://www.immersivelimit.com/connect for more ways to follow/connect 😀"
      ]
    },
    {
      "cell_type": "markdown",
      "metadata": {
        "id": "sPSX2B9oImsQ"
      },
      "source": [
        "# Initial Setup\n",
        "First, we install some Python libraries. Google Colab probably has these requirements already, but better to include them than to break later."
      ]
    },
    {
      "cell_type": "code",
      "execution_count": 1,
      "metadata": {
        "id": "cU0BZLJHGSwn"
      },
      "outputs": [
        {
          "name": "stdout",
          "output_type": "stream",
          "text": [
            "WARNING: pip is being invoked by an old script wrapper. This will fail in a future version of pip.\n",
            "Please see https://github.com/pypa/pip/issues/5599 for advice on fixing the underlying issue.\n",
            "To avoid this problem you can invoke Python with '-m pip' instead of running pip directly.\n",
            "Defaulting to user installation because normal site-packages is not writeable\n",
            "Requirement already satisfied: cython in /home/pk2269/.local/lib/python3.6/site-packages (0.29.30)\n",
            "WARNING: pip is being invoked by an old script wrapper. This will fail in a future version of pip.\n",
            "Please see https://github.com/pypa/pip/issues/5599 for advice on fixing the underlying issue.\n",
            "To avoid this problem you can invoke Python with '-m pip' instead of running pip directly.\n",
            "Defaulting to user installation because normal site-packages is not writeable\n",
            "Requirement already satisfied: opencv-python in /home/pk2269/.local/lib/python3.6/site-packages (4.6.0.66)\n",
            "Requirement already satisfied: pillow in /home/pk2269/.local/lib/python3.6/site-packages (8.4.0)\n",
            "Requirement already satisfied: pycocotools in /home/pk2269/.local/lib/python3.6/site-packages (2.0.4)\n",
            "Requirement already satisfied: matplotlib in /home/pk2269/.local/lib/python3.6/site-packages (3.3.4)\n",
            "Requirement already satisfied: numpy>=1.13.3 in /home/pk2269/.local/lib/python3.6/site-packages (from opencv-python) (1.19.5)\n",
            "Requirement already satisfied: python-dateutil>=2.1 in /home/pk2269/.local/lib/python3.6/site-packages (from matplotlib) (2.8.2)\n",
            "Requirement already satisfied: cycler>=0.10 in /home/pk2269/.local/lib/python3.6/site-packages (from matplotlib) (0.11.0)\n",
            "Requirement already satisfied: pyparsing!=2.0.4,!=2.1.2,!=2.1.6,>=2.0.3 in /home/pk2269/.local/lib/python3.6/site-packages (from matplotlib) (3.0.7)\n",
            "Requirement already satisfied: kiwisolver>=1.0.1 in /home/pk2269/.local/lib/python3.6/site-packages (from matplotlib) (1.3.1)\n",
            "Requirement already satisfied: six>=1.5 in /home/pk2269/.local/lib/python3.6/site-packages (from python-dateutil>=2.1->matplotlib) (1.16.0)\n"
          ]
        }
      ],
      "source": [
        "# Cython needs to be installed before pycocotools\n",
        "!pip3 install cython\n",
        "!pip3 install opencv-python pillow pycocotools matplotlib"
      ]
    },
    {
      "cell_type": "code",
      "execution_count": 2,
      "metadata": {
        "id": "EorT6buddx4X"
      },
      "outputs": [
        {
          "name": "stdout",
          "output_type": "stream",
          "text": [
            "WARNING: pip is being invoked by an old script wrapper. This will fail in a future version of pip.\n",
            "Please see https://github.com/pypa/pip/issues/5599 for advice on fixing the underlying issue.\n",
            "To avoid this problem you can invoke Python with '-m pip' instead of running pip directly.\n",
            "Defaulting to user installation because normal site-packages is not writeable\n",
            "Requirement already satisfied: torchvision==0.5.0 in /home/pk2269/.local/lib/python3.6/site-packages (0.5.0)\n",
            "Requirement already satisfied: torch==1.4.0 in /home/pk2269/.local/lib/python3.6/site-packages (from torchvision==0.5.0) (1.4.0)\n",
            "Requirement already satisfied: pillow>=4.1.1 in /home/pk2269/.local/lib/python3.6/site-packages (from torchvision==0.5.0) (8.4.0)\n",
            "Requirement already satisfied: six in /home/pk2269/.local/lib/python3.6/site-packages (from torchvision==0.5.0) (1.16.0)\n",
            "Requirement already satisfied: numpy in /home/pk2269/.local/lib/python3.6/site-packages (from torchvision==0.5.0) (1.19.5)\n",
            "WARNING: pip is being invoked by an old script wrapper. This will fail in a future version of pip.\n",
            "Please see https://github.com/pypa/pip/issues/5599 for advice on fixing the underlying issue.\n",
            "To avoid this problem you can invoke Python with '-m pip' instead of running pip directly.\n",
            "Defaulting to user installation because normal site-packages is not writeable\n",
            "Requirement already satisfied: torch==1.4.0 in /home/pk2269/.local/lib/python3.6/site-packages (1.4.0)\n"
          ]
        }
      ],
      "source": [
        "# Downgrade torch to accommodate DCNv2\n",
        "!pip3 install torchvision==0.5.0\n",
        "!pip3 install torch==1.4.0\n"
      ]
    },
    {
      "cell_type": "markdown",
      "metadata": {
        "id": "i4EMaf9wI-_M"
      },
      "source": [
        "## Clone YOLACT from GitHub\n",
        "Let's get that github repo! If anything in this notebook breaks, check the repo in case they've made updates."
      ]
    },
    {
      "cell_type": "code",
      "execution_count": 3,
      "metadata": {
        "id": "Jpmc_BiNI98H"
      },
      "outputs": [
        {
          "name": "stdout",
          "output_type": "stream",
          "text": [
            "[Errno 2] No such file or directory: './content'\n",
            "/home/pk2269/Downloads\n",
            "Cloning into 'yolact'...\n",
            "remote: Enumerating objects: 2936, done.\u001b[K\n",
            "remote: Total 2936 (delta 0), reused 0 (delta 0), pack-reused 2936\u001b[K\n",
            "Receiving objects: 100% (2936/2936), 21.20 MiB | 11.19 MiB/s, done.\n",
            "Resolving deltas: 100% (2002/2002), done.\n"
          ]
        }
      ],
      "source": [
        "# Make sure we're in the top folder\n",
        "%cd ./content\n",
        "\n",
        "# Clone the repo\n",
        "!git clone https://github.com/dbolya/yolact.git"
      ]
    },
    {
      "cell_type": "markdown",
      "metadata": {
        "id": "mbb_tE0EJNFj"
      },
      "source": [
        "## DCNv2\n",
        "The DCNv2 external library is needed for this to work, so we'll build it now.\n",
        "\n",
        "**IF YOU GET CUDA ERRORS** You need to change the Runtime of this notebook to \"GPU\" as mentioned at the top of the notebook."
      ]
    },
    {
      "cell_type": "code",
      "execution_count": 4,
      "metadata": {
        "id": "K7XrENaqJU1C"
      },
      "outputs": [
        {
          "name": "stdout",
          "output_type": "stream",
          "text": [
            "/home/pk2269/Downloads/yolact/external/DCNv2\n",
            "running build\n",
            "running build_ext\n",
            "building '_ext' extension\n",
            "creating build\n",
            "creating build/temp.linux-x86_64-3.6\n",
            "creating build/temp.linux-x86_64-3.6/home\n",
            "creating build/temp.linux-x86_64-3.6/home/pk2269\n",
            "creating build/temp.linux-x86_64-3.6/home/pk2269/Downloads\n",
            "creating build/temp.linux-x86_64-3.6/home/pk2269/Downloads/yolact\n",
            "creating build/temp.linux-x86_64-3.6/home/pk2269/Downloads/yolact/external\n",
            "creating build/temp.linux-x86_64-3.6/home/pk2269/Downloads/yolact/external/DCNv2\n",
            "creating build/temp.linux-x86_64-3.6/home/pk2269/Downloads/yolact/external/DCNv2/src\n",
            "creating build/temp.linux-x86_64-3.6/home/pk2269/Downloads/yolact/external/DCNv2/src/cpu\n",
            "creating build/temp.linux-x86_64-3.6/home/pk2269/Downloads/yolact/external/DCNv2/src/cuda\n",
            "x86_64-linux-gnu-gcc -pthread -DNDEBUG -g -fwrapv -O2 -Wall -g -fstack-protector-strong -Wformat -Werror=format-security -Wdate-time -D_FORTIFY_SOURCE=2 -fPIC -DWITH_CUDA -I/home/pk2269/Downloads/yolact/external/DCNv2/src -I/home/pk2269/.local/lib/python3.6/site-packages/torch/include -I/home/pk2269/.local/lib/python3.6/site-packages/torch/include/torch/csrc/api/include -I/home/pk2269/.local/lib/python3.6/site-packages/torch/include/TH -I/home/pk2269/.local/lib/python3.6/site-packages/torch/include/THC -I/usr/include/python3.6m -c /home/pk2269/Downloads/yolact/external/DCNv2/src/vision.cpp -o build/temp.linux-x86_64-3.6/home/pk2269/Downloads/yolact/external/DCNv2/src/vision.o -DTORCH_API_INCLUDE_EXTENSION_H -DTORCH_EXTENSION_NAME=_ext -D_GLIBCXX_USE_CXX11_ABI=0 -std=c++11\n",
            "x86_64-linux-gnu-gcc -pthread -DNDEBUG -g -fwrapv -O2 -Wall -g -fstack-protector-strong -Wformat -Werror=format-security -Wdate-time -D_FORTIFY_SOURCE=2 -fPIC -DWITH_CUDA -I/home/pk2269/Downloads/yolact/external/DCNv2/src -I/home/pk2269/.local/lib/python3.6/site-packages/torch/include -I/home/pk2269/.local/lib/python3.6/site-packages/torch/include/torch/csrc/api/include -I/home/pk2269/.local/lib/python3.6/site-packages/torch/include/TH -I/home/pk2269/.local/lib/python3.6/site-packages/torch/include/THC -I/usr/include/python3.6m -c /home/pk2269/Downloads/yolact/external/DCNv2/src/cpu/dcn_v2_cpu.cpp -o build/temp.linux-x86_64-3.6/home/pk2269/Downloads/yolact/external/DCNv2/src/cpu/dcn_v2_cpu.o -DTORCH_API_INCLUDE_EXTENSION_H -DTORCH_EXTENSION_NAME=_ext -D_GLIBCXX_USE_CXX11_ABI=0 -std=c++11\n",
            "/usr/bin/nvcc -DWITH_CUDA -I/home/pk2269/Downloads/yolact/external/DCNv2/src -I/home/pk2269/.local/lib/python3.6/site-packages/torch/include -I/home/pk2269/.local/lib/python3.6/site-packages/torch/include/torch/csrc/api/include -I/home/pk2269/.local/lib/python3.6/site-packages/torch/include/TH -I/home/pk2269/.local/lib/python3.6/site-packages/torch/include/THC -I/usr/include/python3.6m -c /home/pk2269/Downloads/yolact/external/DCNv2/src/cuda/dcn_v2_im2col_cuda.cu -o build/temp.linux-x86_64-3.6/home/pk2269/Downloads/yolact/external/DCNv2/src/cuda/dcn_v2_im2col_cuda.o -D__CUDA_NO_HALF_OPERATORS__ -D__CUDA_NO_HALF_CONVERSIONS__ -D__CUDA_NO_HALF2_OPERATORS__ --expt-relaxed-constexpr --compiler-options '-fPIC' -DCUDA_HAS_FP16=1 -D__CUDA_NO_HALF_OPERATORS__ -D__CUDA_NO_HALF_CONVERSIONS__ -D__CUDA_NO_HALF2_OPERATORS__ -DTORCH_API_INCLUDE_EXTENSION_H -DTORCH_EXTENSION_NAME=_ext -D_GLIBCXX_USE_CXX11_ABI=0 -gencode=arch=compute_75,code=sm_75 -std=c++11\n",
            "nvcc fatal   : Unsupported gpu architecture 'compute_75'\n",
            "error: command '/usr/bin/nvcc' failed with exit status 1\n"
          ]
        }
      ],
      "source": [
        "# Change to the right directory\n",
        "%cd ./yolact/external/DCNv2\n",
        "\n",
        "# Build DCNv2\n",
        "!python3 setup.py build develop"
      ]
    },
    {
      "cell_type": "markdown",
      "metadata": {
        "id": "BryENed-JXF8"
      },
      "source": [
        "## Pretrained Weights\n",
        "In order to run inference, we'll need some pre-trained weights. The creator of the GitHub repo shared them on Google Drive. We're going to use a [helpful tool](https://github.com/chentinghao/download_google_drive) made by [chentinghao](https://github.com/chentinghao) to easily access the Drive file from Colab.\n",
        "\n",
        "If this stops working, it's probably because the weights moved to a different location. Check the YOLACT github repo to see where they went."
      ]
    },
    {
      "cell_type": "code",
      "execution_count": 5,
      "metadata": {
        "id": "683HeW9lJ6cA"
      },
      "outputs": [
        {
          "name": "stdout",
          "output_type": "stream",
          "text": [
            "/home/pk2269/Downloads/yolact/external/DCNv2\n",
            "Cloning into 'download_google_drive'...\n",
            "remote: Enumerating objects: 16, done.\u001b[K\n",
            "remote: Total 16 (delta 0), reused 0 (delta 0), pack-reused 16\u001b[K\n",
            "Unpacking objects: 100% (16/16), done.\n",
            "32.0kB [00:00, 65.0MB/s]\n"
          ]
        }
      ],
      "source": [
        "# Make sure we're in the top folder\n",
        "%cd ./\n",
        "\n",
        "# Clone the repo\n",
        "!git clone https://github.com/chentinghao/download_google_drive.git\n",
        "\n",
        "# Create a new directory for the pre-trained weights\n",
        "!mkdir -p ./yolact/weights\n",
        "\n",
        "# Download the file\n",
        "!python3 ./download_google_drive/download_gdrive.py 1ZPu1YR2UzGHQD0o1rEqy-j5bmEm3lbyP ./yolact/weights/yolact_plus_resnet50_54_800000.pth"
      ]
    },
    {
      "cell_type": "markdown",
      "metadata": {
        "id": "RytTtzjjKVXQ"
      },
      "source": [
        "# Get Test Images\n",
        "We'll download a few test images from the [COCO dataset](http://cocodataset.org/#explore). Feel free to try out your own images as well, but know that there are only 80 categories and they're not intended to cover everything, so if you upload a picture of a snake, a mouse, and a cat, only the cat will be detected."
      ]
    },
    {
      "cell_type": "code",
      "execution_count": 7,
      "metadata": {
        "id": "OgbAWb-QKflZ"
      },
      "outputs": [
        {
          "name": "stdout",
          "output_type": "stream",
          "text": [
            "/home/pk2269/Downloads/test_images\n",
            "--2022-06-27 00:32:29--  http://farm8.staticflickr.com/7200/6946559805_7edf757660_z.jpg\n",
            "Resolving farm8.staticflickr.com (farm8.staticflickr.com)... 13.35.177.214, 2600:9000:2136:3800:0:5a51:64c9:c681, 2600:9000:2136:2800:0:5a51:64c9:c681, ...\n",
            "Connecting to farm8.staticflickr.com (farm8.staticflickr.com)|13.35.177.214|:80... connected.\n",
            "HTTP request sent, awaiting response... 301 Moved Permanently\n",
            "Location: https://farm8.staticflickr.com/7200/6946559805_7edf757660_z.jpg [following]\n",
            "--2022-06-27 00:32:29--  https://farm8.staticflickr.com/7200/6946559805_7edf757660_z.jpg\n",
            "Connecting to farm8.staticflickr.com (farm8.staticflickr.com)|13.35.177.214|:443... connected.\n",
            "HTTP request sent, awaiting response... 200 OK\n",
            "Length: unspecified [image/jpeg]\n",
            "Saving to: ‘6946559805_7edf757660_z.jpg’\n",
            "\n",
            "6946559805_7edf7576     [ <=>                ]  52.93K  --.-KB/s    in 0.006s  \n",
            "\n",
            "2022-06-27 00:32:29 (9.19 MB/s) - ‘6946559805_7edf757660_z.jpg’ saved [54199]\n",
            "\n",
            "--2022-06-27 00:32:29--  http://farm3.staticflickr.com/2835/9520716824_51220b13d0_z.jpg\n",
            "Resolving farm3.staticflickr.com (farm3.staticflickr.com)... 13.35.177.214, 2600:9000:2136:d400:0:5a51:64c9:c681, 2600:9000:2136:3800:0:5a51:64c9:c681, ...\n",
            "Connecting to farm3.staticflickr.com (farm3.staticflickr.com)|13.35.177.214|:80... connected.\n",
            "HTTP request sent, awaiting response... 301 Moved Permanently\n",
            "Location: https://farm3.staticflickr.com/2835/9520716824_51220b13d0_z.jpg [following]\n",
            "--2022-06-27 00:32:29--  https://farm3.staticflickr.com/2835/9520716824_51220b13d0_z.jpg\n",
            "Connecting to farm3.staticflickr.com (farm3.staticflickr.com)|13.35.177.214|:443... connected.\n",
            "HTTP request sent, awaiting response... 200 OK\n",
            "Length: unspecified [image/jpeg]\n",
            "Saving to: ‘9520716824_51220b13d0_z.jpg’\n",
            "\n",
            "9520716824_51220b13     [ <=>                ]  99.04K  --.-KB/s    in 0.01s   \n",
            "\n",
            "2022-06-27 00:32:30 (7.97 MB/s) - ‘9520716824_51220b13d0_z.jpg’ saved [101413]\n",
            "\n",
            "--2022-06-27 00:32:30--  http://farm3.staticflickr.com/2817/10105052924_0c8d79e62c_z.jpg\n",
            "Resolving farm3.staticflickr.com (farm3.staticflickr.com)... 13.35.177.214, 2600:9000:2136:d400:0:5a51:64c9:c681, 2600:9000:2136:3800:0:5a51:64c9:c681, ...\n",
            "Connecting to farm3.staticflickr.com (farm3.staticflickr.com)|13.35.177.214|:80... connected.\n",
            "HTTP request sent, awaiting response... 301 Moved Permanently\n",
            "Location: https://farm3.staticflickr.com/2817/10105052924_0c8d79e62c_z.jpg [following]\n",
            "--2022-06-27 00:32:30--  https://farm3.staticflickr.com/2817/10105052924_0c8d79e62c_z.jpg\n",
            "Connecting to farm3.staticflickr.com (farm3.staticflickr.com)|13.35.177.214|:443... connected.\n",
            "HTTP request sent, awaiting response... 200 OK\n",
            "Length: unspecified [image/jpeg]\n",
            "Saving to: ‘10105052924_0c8d79e62c_z.jpg’\n",
            "\n",
            "10105052924_0c8d79e     [ <=>                ]  93.06K  --.-KB/s    in 0.009s  \n",
            "\n",
            "2022-06-27 00:32:30 (10.2 MB/s) - ‘10105052924_0c8d79e62c_z.jpg’ saved [95295]\n",
            "\n",
            "--2022-06-27 00:32:30--  https://farm3.staticflickr.com/2637/3679968895_37a79e55b3_z.jpg\n",
            "Resolving farm3.staticflickr.com (farm3.staticflickr.com)... 13.35.177.214, 2600:9000:2136:d400:0:5a51:64c9:c681, 2600:9000:2136:3800:0:5a51:64c9:c681, ...\n",
            "Connecting to farm3.staticflickr.com (farm3.staticflickr.com)|13.35.177.214|:443... connected.\n",
            "HTTP request sent, awaiting response... 200 OK\n",
            "Length: unspecified [image/jpeg]\n",
            "Saving to: ‘3679968895_37a79e55b3_z.jpg’\n",
            "\n",
            "3679968895_37a79e55     [ <=>                ]  63.69K  --.-KB/s    in 0.006s  \n",
            "\n",
            "2022-06-27 00:32:30 (10.3 MB/s) - ‘3679968895_37a79e55b3_z.jpg’ saved [65217]\n",
            "\n",
            "--2022-06-27 00:32:30--  https://farm8.staticflickr.com/7137/7705349298_6bea29cf1c_z.jpg\n",
            "Resolving farm8.staticflickr.com (farm8.staticflickr.com)... 13.35.177.214, 2600:9000:2136:d400:0:5a51:64c9:c681, 2600:9000:2136:3800:0:5a51:64c9:c681, ...\n",
            "Connecting to farm8.staticflickr.com (farm8.staticflickr.com)|13.35.177.214|:443... connected.\n",
            "HTTP request sent, awaiting response... 200 OK\n",
            "Length: unspecified [image/jpeg]\n",
            "Saving to: ‘7705349298_6bea29cf1c_z.jpg’\n",
            "\n",
            "7705349298_6bea29cf     [ <=>                ]  58.37K  --.-KB/s    in 0.006s  \n",
            "\n",
            "2022-06-27 00:32:30 (9.84 MB/s) - ‘7705349298_6bea29cf1c_z.jpg’ saved [59767]\n",
            "\n",
            "--2022-06-27 00:32:31--  http://farm5.staticflickr.com/4105/4981945644_3f162314ed_z.jpg\n",
            "Resolving farm5.staticflickr.com (farm5.staticflickr.com)... 13.35.177.214, 2600:9000:2136:4200:0:5a51:64c9:c681, 2600:9000:2136:d400:0:5a51:64c9:c681, ...\n",
            "Connecting to farm5.staticflickr.com (farm5.staticflickr.com)|13.35.177.214|:80... connected.\n",
            "HTTP request sent, awaiting response... 301 Moved Permanently\n",
            "Location: https://farm5.staticflickr.com/4105/4981945644_3f162314ed_z.jpg [following]\n",
            "--2022-06-27 00:32:31--  https://farm5.staticflickr.com/4105/4981945644_3f162314ed_z.jpg\n",
            "Connecting to farm5.staticflickr.com (farm5.staticflickr.com)|13.35.177.214|:443... connected.\n",
            "HTTP request sent, awaiting response... 200 OK\n",
            "Length: unspecified [image/jpeg]\n",
            "Saving to: ‘4981945644_3f162314ed_z.jpg’\n",
            "\n",
            "4981945644_3f162314     [ <=>                ] 146.28K  --.-KB/s    in 0.01s   \n",
            "\n",
            "2022-06-27 00:32:31 (11.7 MB/s) - ‘4981945644_3f162314ed_z.jpg’ saved [149791]\n",
            "\n",
            "--2022-06-27 00:32:31--  http://farm1.staticflickr.com/40/101757885_a8fc40e273_z.jpg\n",
            "Resolving farm1.staticflickr.com (farm1.staticflickr.com)... 13.35.177.214, 2600:9000:2136:2200:0:5a51:64c9:c681, 2600:9000:2136:4200:0:5a51:64c9:c681, ...\n",
            "Connecting to farm1.staticflickr.com (farm1.staticflickr.com)|13.35.177.214|:80... connected.\n",
            "HTTP request sent, awaiting response... 301 Moved Permanently\n",
            "Location: https://farm1.staticflickr.com/40/101757885_a8fc40e273_z.jpg [following]\n",
            "--2022-06-27 00:32:31--  https://farm1.staticflickr.com/40/101757885_a8fc40e273_z.jpg\n",
            "Connecting to farm1.staticflickr.com (farm1.staticflickr.com)|13.35.177.214|:443... connected.\n",
            "HTTP request sent, awaiting response... 200 OK\n",
            "Length: unspecified [image/jpeg]\n",
            "Saving to: ‘101757885_a8fc40e273_z.jpg’\n",
            "\n",
            "101757885_a8fc40e27     [ <=>                ]  98.26K  --.-KB/s    in 0.01s   \n",
            "\n",
            "2022-06-27 00:32:31 (8.55 MB/s) - ‘101757885_a8fc40e273_z.jpg’ saved [100619]\n",
            "\n",
            "--2022-06-27 00:32:31--  http://farm3.staticflickr.com/2654/3897535041_fa8dd5570b_z.jpg\n",
            "Resolving farm3.staticflickr.com (farm3.staticflickr.com)... 13.35.177.214, 2600:9000:2136:2200:0:5a51:64c9:c681, 2600:9000:2136:4200:0:5a51:64c9:c681, ...\n",
            "Connecting to farm3.staticflickr.com (farm3.staticflickr.com)|13.35.177.214|:80... connected.\n",
            "HTTP request sent, awaiting response... 301 Moved Permanently\n",
            "Location: https://farm3.staticflickr.com/2654/3897535041_fa8dd5570b_z.jpg [following]\n",
            "--2022-06-27 00:32:31--  https://farm3.staticflickr.com/2654/3897535041_fa8dd5570b_z.jpg\n",
            "Connecting to farm3.staticflickr.com (farm3.staticflickr.com)|13.35.177.214|:443... connected.\n",
            "HTTP request sent, awaiting response... 200 OK\n",
            "Length: unspecified [image/jpeg]\n",
            "Saving to: ‘3897535041_fa8dd5570b_z.jpg’\n",
            "\n",
            "3897535041_fa8dd557     [ <=>                ] 126.77K  --.-KB/s    in 0.01s   \n",
            "\n",
            "2022-06-27 00:32:31 (9.40 MB/s) - ‘3897535041_fa8dd5570b_z.jpg’ saved [129810]\n",
            "\n",
            "/home/pk2269/Downloads/test_images\n",
            "10105052924_0c8d79e62c_z.jpg  4981945644_3f162314ed_z.jpg\n",
            "101757885_a8fc40e273_z.jpg    6946559805_7edf757660_z.jpg\n",
            "3679968895_37a79e55b3_z.jpg   7705349298_6bea29cf1c_z.jpg\n",
            "3897535041_fa8dd5570b_z.jpg   9520716824_51220b13d0_z.jpg\n"
          ]
        }
      ],
      "source": [
        "# Make a new directory for the test images\n",
        "!mkdir /home/pk2269/Downloads/test_images\n",
        "\n",
        "# Move to the new directory\n",
        "%cd /home/pk2269/Downloads/test_images\n",
        "\n",
        "# Make a list of URLs from the COCO dataset\n",
        "get_imgs = ['http://farm8.staticflickr.com/7200/6946559805_7edf757660_z.jpg',\n",
        "            'http://farm3.staticflickr.com/2835/9520716824_51220b13d0_z.jpg',\n",
        "            'http://farm3.staticflickr.com/2817/10105052924_0c8d79e62c_z.jpg',\n",
        "            'https://farm3.staticflickr.com/2637/3679968895_37a79e55b3_z.jpg',\n",
        "            'https://farm8.staticflickr.com/7137/7705349298_6bea29cf1c_z.jpg',\n",
        "            'http://farm5.staticflickr.com/4105/4981945644_3f162314ed_z.jpg',\n",
        "            'http://farm1.staticflickr.com/40/101757885_a8fc40e273_z.jpg',\n",
        "            'http://farm3.staticflickr.com/2654/3897535041_fa8dd5570b_z.jpg']\n",
        "\n",
        "# Download all the images\n",
        "for img_url in get_imgs:\n",
        "  !wget {img_url} -nc\n",
        "\n",
        "# List the contents of the folder. Should have images.\n",
        "!pwd\n",
        "!ls"
      ]
    },
    {
      "cell_type": "markdown",
      "metadata": {
        "id": "FzviTOC-NlH2"
      },
      "source": [
        "# Run Inference on Images\n",
        "Let's run inference. We do that with eval.py"
      ]
    },
    {
      "cell_type": "code",
      "execution_count": 11,
      "metadata": {
        "id": "2mPeJJ4bNoQy"
      },
      "outputs": [
        {
          "name": "stdout",
          "output_type": "stream",
          "text": [
            "/home/pk2269/Downloads\n",
            "Loading model... Done.\n",
            "\n",
            "test_images/4981945644_3f162314ed_z.jpg -> output_images/4981945644_3f162314ed_z.png\n",
            "test_images/7705349298_6bea29cf1c_z.jpg -> output_images/7705349298_6bea29cf1c_z.png\n",
            "test_images/9520716824_51220b13d0_z.jpg -> output_images/9520716824_51220b13d0_z.png\n",
            "test_images/3679968895_37a79e55b3_z.jpg -> output_images/3679968895_37a79e55b3_z.png\n",
            "test_images/6946559805_7edf757660_z.jpg -> output_images/6946559805_7edf757660_z.png\n",
            "test_images/3897535041_fa8dd5570b_z.jpg -> output_images/3897535041_fa8dd5570b_z.png\n",
            "test_images/101757885_a8fc40e273_z.jpg -> output_images/101757885_a8fc40e273_z.png\n",
            "test_images/10105052924_0c8d79e62c_z.jpg -> output_images/10105052924_0c8d79e62c_z.png\n",
            "Done.\n"
          ]
        }
      ],
      "source": [
        "# Move up to the top level directory\n",
        "%cd /home/pk2269/Downloads\n",
        "\n",
        "# Delete any previous output_images folder (in case we're running this more than once)\n",
        "!rm /home/pk2269/Downloads/output_images -r\n",
        "\n",
        "# Create a new directory for output images\n",
        "!mkdir -p /home/pk2269/Downloads/output_images\n",
        "\n",
        "# Run inference using our pre-trained weights on all images in the directory\n",
        "!python3 ./yolact/eval.py --trained_model=/home/pk2269/Downloads/yolact/weights/leaves_detection_1101_105719_interrupt.pth --config=yolact_darknet53_leaves_custom_config --score_threshold=0.15 --top_k=15 --images=test_images:output_images"
      ]
    },
    {
      "cell_type": "markdown",
      "metadata": {
        "id": "ADqPvYayODaQ"
      },
      "source": [
        "## Display Output Images\n",
        "The last step saved output images, so we'll display those now."
      ]
    },
    {
      "cell_type": "code",
      "execution_count": null,
      "metadata": {
        "id": "4U2u5-LKOHeV"
      },
      "outputs": [],
      "source": [
        "import cv2\n",
        "import numpy as np\n",
        "from matplotlib import pyplot as plt\n",
        "from pathlib import Path\n",
        "\n",
        "output_images = Path('output_images')\n",
        "\n",
        "def show_image(img_path):\n",
        "  img = cv2.imread(img_path)\n",
        "  img_cvt=cv2.cvtColor(img, cv2.COLOR_BGR2RGB)\n",
        "  plt.figure(figsize=(16,16))\n",
        "  plt.imshow(img_cvt)\n",
        "  plt.show()\n",
        "\n",
        "# Iterate through all of the output images and display them\n",
        "for img_path in output_images.iterdir():\n",
        "  print(img_path)\n",
        "  show_image(str(img_path))"
      ]
    },
    {
      "cell_type": "markdown",
      "metadata": {
        "id": "AdA08pp_P-K8"
      },
      "source": [
        "# Run Inference on Video\n",
        "I can't figure out how to get Google Colab to show the output video in the notebook, so I've uploaded the video to YouTube. The mask quality is incredible. There are some false positives because it thinks the rocks are sheep, but we'll give it a pass because it's never been told what a rock is before (COCO dataset doesn't contain rocks) and the rocks do look a bit sheepish.\n"
      ]
    },
    {
      "cell_type": "code",
      "execution_count": null,
      "metadata": {
        "id": "q8rer-0nEr2p"
      },
      "outputs": [],
      "source": [
        "from IPython.display import HTML\n",
        "HTML('<iframe width=\"1280\" height=\"720\" src=\"https://www.youtube.com/embed/bQgtmbzN7jg\" frameborder=\"0\" allow=\"accelerometer; autoplay; encrypted-media; gyroscope; picture-in-picture\" allowfullscreen></iframe>')"
      ]
    },
    {
      "cell_type": "markdown",
      "metadata": {
        "id": "tFbdr7LvIQAU"
      },
      "source": [
        "If you'd like to process your own video, you can modify the steps below."
      ]
    },
    {
      "cell_type": "code",
      "execution_count": null,
      "metadata": {
        "id": "ISbrP30ZQNya"
      },
      "outputs": [],
      "source": [
        "# Make a new directory for the test images\n",
        "!mkdir -p /content/test_video\n",
        "\n",
        "# Move to the top level directory\n",
        "%cd /content\n",
        "\n",
        "# Download the file\n",
        "# https://drive.google.com/file/d/1I4fivRLniVNt_LcWqhQNehTSdEkZ4ytW/view?usp=sharing\n",
        "# Note that file_id is extracted from the share URL above, it'll be different for every file\n",
        "file_id = \"1I4fivRLniVNt_LcWqhQNehTSdEkZ4ytW\"\n",
        "file_path = \"/content/test_video/giraffes_full_720.mp4\" # <- this is the destination path\n",
        "\n",
        "!python /content/download_google_drive/download_gdrive.py {file_id} {file_path}\n",
        "\n",
        "!ls /content/test_video"
      ]
    },
    {
      "cell_type": "markdown",
      "metadata": {
        "id": "rl4CgdmtQxQL"
      },
      "source": [
        "Now we run inference."
      ]
    },
    {
      "cell_type": "code",
      "execution_count": null,
      "metadata": {
        "id": "5BBQqP3FQ0wN"
      },
      "outputs": [],
      "source": [
        "%cd /content\n",
        "!mkdir -p /content/output_videos\n",
        "output_path = \"/content/output_videos/giraffes_full_720_output.mp4\"\n",
        "!python ./yolact/eval.py --trained_model=./yolact/weights/yolact_plus_resnet50_54_800000.pth --score_threshold=0.15 --top_k=15 --video_multiframe=4 --video={file_path}:{output_path}"
      ]
    },
    {
      "cell_type": "markdown",
      "metadata": {
        "id": "4q2BWxoHQ9Ip"
      },
      "source": [
        "## Download the output file\n",
        "In this part, we'll mount your Google Drive and you can copy the file somewhere over there. I tried using the google.colab.files library to download the file, but it doesn't seem to like big video files.\n",
        "\n",
        "- You will need to authorize your Drive to connect, then it basically just links your drive as if it's a folder on this cloud computer.\n",
        "- **Be careful** because if you start deleting/modifying files in this folder, you will modify your personal Google Drive.\n"
      ]
    },
    {
      "cell_type": "code",
      "execution_count": null,
      "metadata": {
        "id": "Vm6PXYajQ5ib"
      },
      "outputs": [],
      "source": [
        "from google.colab import drive\n",
        "drive.mount('/content/drive')"
      ]
    },
    {
      "cell_type": "code",
      "execution_count": null,
      "metadata": {
        "id": "4Q-UPar6WJdh"
      },
      "outputs": [],
      "source": [
        "!mkdir -p /content/drive/My\\ Drive/YOLACT_output\n",
        "%cd /content/drive/My\\ Drive/YOLACT_output\n",
        "!ls"
      ]
    },
    {
      "cell_type": "code",
      "execution_count": null,
      "metadata": {
        "id": "OkyUSDSSXTFp"
      },
      "outputs": [],
      "source": [
        "!cp {output_path} /content/drive/My\\ Drive/YOLACT_output/giraffes_full_720_output.mp4"
      ]
    },
    {
      "cell_type": "markdown",
      "metadata": {
        "id": "6VuqrmpmWjII"
      },
      "source": [
        "## Find the Video on Google Drive\n",
        "Now you should be able to view the file on your Google Drive in the YOLACT_output folder."
      ]
    },
    {
      "cell_type": "markdown",
      "metadata": {
        "id": "m-vDbmJnWy6Y"
      },
      "source": [
        "# Conclusion\n",
        "🎉 Woohoo! You did it! 🎉\n",
        "\n",
        "Thanks for checking out the notebook, I hope it was helpful!\n",
        "\n",
        "**If you liked it, consider sharing it!** YOLACT is pretty awesome, so more people should know about it.\n",
        "\n",
        "\n",
        "### Want to learn how to Train on a custom dataset?\n",
        "\n",
        "Check out this tutorial:\n",
        "\n",
        "[Train YOLACT with a Custom COCO Dataset | Immersive Limit](https://www.immersivelimit.com/tutorials/train-yolact-with-a-custom-coco-dataset)"
      ]
    },
    {
      "cell_type": "code",
      "execution_count": null,
      "metadata": {
        "id": "3sS6FExSXHyi"
      },
      "outputs": [],
      "source": []
    }
  ],
  "metadata": {
    "accelerator": "GPU",
    "colab": {
      "collapsed_sections": [],
      "name": "YOLACT-Eval.ipynb",
      "provenance": []
    },
    "kernelspec": {
      "display_name": "Python 3.6.9 64-bit",
      "language": "python",
      "name": "python3"
    },
    "language_info": {
      "codemirror_mode": {
        "name": "ipython",
        "version": 3
      },
      "file_extension": ".py",
      "mimetype": "text/x-python",
      "name": "python",
      "nbconvert_exporter": "python",
      "pygments_lexer": "ipython3",
      "version": "3.6.9"
    },
    "vscode": {
      "interpreter": {
        "hash": "31f2aee4e71d21fbe5cf8b01ff0e069b9275f58929596ceb00d14d90e3e16cd6"
      }
    }
  },
  "nbformat": 4,
  "nbformat_minor": 0
}
